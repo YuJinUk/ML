{
 "cells": [
  {
   "cell_type": "code",
   "execution_count": 2,
   "metadata": {},
   "outputs": [],
   "source": [
    "import numpy as np"
   ]
  },
  {
   "cell_type": "code",
   "execution_count": 4,
   "metadata": {},
   "outputs": [
    {
     "data": {
      "text/plain": [
       "array([[0., 0., 0., 0.],\n",
       "       [0., 0., 0., 0.]])"
      ]
     },
     "execution_count": 4,
     "metadata": {},
     "output_type": "execute_result"
    }
   ],
   "source": [
    "np.zeros((2, 4)) # np.zeros(shape)"
   ]
  },
  {
   "cell_type": "code",
   "execution_count": 5,
   "metadata": {},
   "outputs": [
    {
     "data": {
      "text/plain": [
       "array([[1., 0., 0.],\n",
       "       [1., 1., 0.],\n",
       "       [1., 1., 1.]])"
      ]
     },
     "execution_count": 5,
     "metadata": {},
     "output_type": "execute_result"
    }
   ],
   "source": [
    "np.tri(3) # np.tri(n) 하삼각행렬"
   ]
  },
  {
   "cell_type": "code",
   "execution_count": 6,
   "metadata": {},
   "outputs": [
    {
     "data": {
      "text/plain": [
       "array([[1., 1., 1., 1.],\n",
       "       [1., 1., 1., 1.]])"
      ]
     },
     "execution_count": 6,
     "metadata": {},
     "output_type": "execute_result"
    }
   ],
   "source": [
    "np.ones((2, 4)) # np.ones(shape)"
   ]
  },
  {
   "cell_type": "code",
   "execution_count": 7,
   "metadata": {},
   "outputs": [
    {
     "data": {
      "text/plain": [
       "array([[1.5, 1.5, 1.5, 1.5, 1.5],\n",
       "       [1.5, 1.5, 1.5, 1.5, 1.5]])"
      ]
     },
     "execution_count": 7,
     "metadata": {},
     "output_type": "execute_result"
    }
   ],
   "source": [
    "np.full((2,5), 1.5) # np.full(shape, value)"
   ]
  },
  {
   "cell_type": "code",
   "execution_count": 8,
   "metadata": {},
   "outputs": [
    {
     "data": {
      "text/plain": [
       "array([[1., 0., 0., 0., 0.],\n",
       "       [0., 1., 0., 0., 0.],\n",
       "       [0., 0., 1., 0., 0.],\n",
       "       [0., 0., 0., 1., 0.],\n",
       "       [0., 0., 0., 0., 1.]])"
      ]
     },
     "execution_count": 8,
     "metadata": {},
     "output_type": "execute_result"
    }
   ],
   "source": [
    "np.eye(5) # np.eye(n) 단위행렬"
   ]
  },
  {
   "cell_type": "code",
   "execution_count": 11,
   "metadata": {},
   "outputs": [
    {
     "data": {
      "text/plain": [
       "array([[1., 1., 1.],\n",
       "       [1., 1., 1.]])"
      ]
     },
     "execution_count": 11,
     "metadata": {},
     "output_type": "execute_result"
    }
   ],
   "source": [
    "np.empty((2,3)) # np.empty(shape) 초기화되지 않은 배열 생성, 초기화가 없어서 배열 생성 비용이 저렴하고 빠름, 초기화되지않아서 기존 메모리 위치에 존재하는 값이 있으므로 무슨 수가 나올지 모름"
   ]
  },
  {
   "cell_type": "code",
   "execution_count": 16,
   "metadata": {},
   "outputs": [
    {
     "name": "stdout",
     "output_type": "stream",
     "text": [
      "[1 2 3 4 5]\n",
      "[0 0 0 0 0]\n",
      "[1 1 1 1 1]\n",
      "[10 10 10 10 10]\n"
     ]
    }
   ],
   "source": [
    "# _like() : 지정된 배열과 shape가 같은 행렬 생성\n",
    "a1 = np.array([1,2,3,4,5])\n",
    "print(a1)\n",
    "print(np.zeros_like(a1))\n",
    "print(np.ones_like(a1))\n",
    "print(np.full_like(a1, 10))"
   ]
  },
  {
   "cell_type": "code",
   "execution_count": 17,
   "metadata": {},
   "outputs": [
    {
     "data": {
      "text/plain": [
       "array([1, 2, 3, 4, 5, 6, 7, 8, 9])"
      ]
     },
     "execution_count": 17,
     "metadata": {},
     "output_type": "execute_result"
    }
   ],
   "source": [
    "np.arange(1, 10)"
   ]
  },
  {
   "cell_type": "code",
   "execution_count": 19,
   "metadata": {},
   "outputs": [
    {
     "data": {
      "text/plain": [
       "array([ 1.  ,  3.25,  5.5 ,  7.75, 10.  ])"
      ]
     },
     "execution_count": 19,
     "metadata": {},
     "output_type": "execute_result"
    }
   ],
   "source": [
    "np.linspace(1, 10, 5) # np.linspace(start, end, 간격) 균등한 간격으로 나눠줌"
   ]
  },
  {
   "cell_type": "code",
   "execution_count": 29,
   "metadata": {},
   "outputs": [
    {
     "data": {
      "text/plain": [
       "array([ 1.        ,  1.12883789,  1.27427499,  1.43844989,  1.62377674,\n",
       "        1.83298071,  2.06913808,  2.33572147,  2.6366509 ,  2.97635144,\n",
       "        3.35981829,  3.79269019,  4.2813324 ,  4.83293024,  5.45559478,\n",
       "        6.15848211,  6.95192796,  7.8475997 ,  8.8586679 , 10.        ])"
      ]
     },
     "execution_count": 29,
     "metadata": {},
     "output_type": "execute_result"
    }
   ],
   "source": [
    "np.logspace(0, 1, 20) # np.logspace(start, end, 간격) 범위 내에서 균등한 간격으로 로그 스케일로 배열 생성"
   ]
  },
  {
   "cell_type": "code",
   "execution_count": 30,
   "metadata": {},
   "outputs": [
    {
     "data": {
      "text/plain": [
       "array([[0.2938914 , 0.7942691 , 0.44504796],\n",
       "       [0.3259822 , 0.56472449, 0.62329198],\n",
       "       [0.47379155, 0.70286857, 0.00576802]])"
      ]
     },
     "execution_count": 30,
     "metadata": {},
     "output_type": "execute_result"
    }
   ],
   "source": [
    "# random.random() : 랜덤한 수의 배열 생성\n",
    "np.random.random((3,3))"
   ]
  },
  {
   "cell_type": "code",
   "execution_count": 32,
   "metadata": {},
   "outputs": [
    {
     "data": {
      "text/plain": [
       "array([[0, 8, 7],\n",
       "       [9, 8, 4],\n",
       "       [4, 9, 3]])"
      ]
     },
     "execution_count": 32,
     "metadata": {},
     "output_type": "execute_result"
    }
   ],
   "source": [
    "np.random.randint(0, 10, (3,3)) # np.random.randint(start, end, shape) start부터 end-1사이의 수를 랜덤하게 뽑아 shape배열을 생성"
   ]
  },
  {
   "cell_type": "code",
   "execution_count": 34,
   "metadata": {},
   "outputs": [
    {
     "data": {
      "text/plain": [
       "array([[-1.65271832,  0.84209452, -1.08763035,  0.22266139],\n",
       "       [ 0.66866383,  1.83204632,  1.0453194 , -0.81194045]])"
      ]
     },
     "execution_count": 34,
     "metadata": {},
     "output_type": "execute_result"
    }
   ],
   "source": [
    "np.random.normal(0, 1, size=(2,4)) # np.random.normal(mu, std, size) normal distribution을 고려한 랜덤한 수를 뽑아 배열 생성"
   ]
  },
  {
   "cell_type": "code",
   "execution_count": 35,
   "metadata": {},
   "outputs": [
    {
     "data": {
      "text/plain": [
       "array([[0.01283572, 0.29973732, 0.16063435],\n",
       "       [0.13148863, 0.51354381, 0.43427048],\n",
       "       [0.13847429, 0.586607  , 0.70779612]])"
      ]
     },
     "execution_count": 35,
     "metadata": {},
     "output_type": "execute_result"
    }
   ],
   "source": [
    "np.random.rand(3,3) # np.random.rand(row, col) uniform distribution을 고려한 랜덤한 수를 뽑아 배열 생성"
   ]
  },
  {
   "cell_type": "code",
   "execution_count": 39,
   "metadata": {},
   "outputs": [
    {
     "data": {
      "text/plain": [
       "array([[-0.75693614, -1.62524395, -0.37677798],\n",
       "       [ 0.46936415,  1.00600368, -0.76179649]])"
      ]
     },
     "execution_count": 39,
     "metadata": {},
     "output_type": "execute_result"
    }
   ],
   "source": [
    "np.random.randn(2, 3) # np.random.randn(row, col) standard normal distribution을 고려한 랜덤한 수를 뽑아 배열 생성"
   ]
  },
  {
   "cell_type": "code",
   "execution_count": 51,
   "metadata": {},
   "outputs": [
    {
     "data": {
      "text/plain": [
       "array('2023-03', dtype='datetime64[M]')"
      ]
     },
     "execution_count": 51,
     "metadata": {},
     "output_type": "execute_result"
    }
   ],
   "source": [
    "date = np.array('2023-03-26', dtype='datetime64[M]') # dtype= 'datetime[]'에 M을 넣으면 달까지 Y를 넣으면 연도만 D를 넣으면 일까지 계산됨\n",
    "date"
   ]
  },
  {
   "cell_type": "code",
   "execution_count": 52,
   "metadata": {},
   "outputs": [
    {
     "data": {
      "text/plain": [
       "array(['2023-03', '2023-04', '2023-05', '2023-06', '2023-07', '2023-08',\n",
       "       '2023-09', '2023-10', '2023-11', '2023-12', '2024-01', '2024-02'],\n",
       "      dtype='datetime64[M]')"
      ]
     },
     "execution_count": 52,
     "metadata": {},
     "output_type": "execute_result"
    }
   ],
   "source": [
    "date + np.arange(12)"
   ]
  },
  {
   "cell_type": "code",
   "execution_count": 55,
   "metadata": {},
   "outputs": [
    {
     "data": {
      "text/plain": [
       "numpy.datetime64('2020-06-01T12:00:14.150000000')"
      ]
     },
     "execution_count": 55,
     "metadata": {},
     "output_type": "execute_result"
    }
   ],
   "source": [
    "datetime = np.datetime64('2020-06-01 12:00:14.15', 'ns')\n",
    "datetime"
   ]
  },
  {
   "cell_type": "code",
   "execution_count": 58,
   "metadata": {},
   "outputs": [
    {
     "name": "stdout",
     "output_type": "stream",
     "text": [
      "[[2 3]\n",
      " [5 4]]\n"
     ]
    }
   ],
   "source": [
    "a1 = np.array([1,2,3,4,5])\n",
    "idx = np.array([[1, 2],\n",
    "                [4, 3]])\n",
    "print(a1[idx])"
   ]
  },
  {
   "cell_type": "code",
   "execution_count": 66,
   "metadata": {},
   "outputs": [
    {
     "name": "stdout",
     "output_type": "stream",
     "text": [
      "[2 9]\n",
      "[[1 2 3]\n",
      " [7 8 9]]\n",
      "[[2 3]\n",
      " [5 6]\n",
      " [8 9]]\n",
      "[[5 6]\n",
      " [8 9]]\n",
      "[[3 2 1]\n",
      " [9 8 7]]\n",
      "[[2 3]\n",
      " [5 6]]\n"
     ]
    }
   ],
   "source": [
    "a2 = np.array([[1, 2, 3],\n",
    "               [4, 5, 6],\n",
    "               [7, 8, 9]])\n",
    "row = np.array([0, 2])\n",
    "col = np.array([1, 2])\n",
    "print(a2[row, col])\n",
    "print(a2[row, :])\n",
    "print(a2[:, col])\n",
    "print(a2[1:, 1:])\n",
    "print(a2[row, ::-1])\n",
    "print(a2[:-1, col])"
   ]
  },
  {
   "cell_type": "code",
   "execution_count": 71,
   "metadata": {},
   "outputs": [
    {
     "name": "stdout",
     "output_type": "stream",
     "text": [
      "[1 2 3 4 5]\n",
      "[10  1  2  3  4  5]\n",
      "[1 2 3 4 5]\n",
      "[ 1  2 10  3  4  5]\n"
     ]
    }
   ],
   "source": [
    "print(a1)\n",
    "b1 = np.insert(a1, 0, 10)\n",
    "print(b1)\n",
    "print(a1)\n",
    "c1 = np.insert(a1, 2, 10)\n",
    "print(c1)"
   ]
  },
  {
   "cell_type": "code",
   "execution_count": 73,
   "metadata": {},
   "outputs": [
    {
     "name": "stdout",
     "output_type": "stream",
     "text": [
      "[[1 2 3]\n",
      " [4 5 6]\n",
      " [7 8 9]]\n",
      "[[ 1  2  3]\n",
      " [10 10 10]\n",
      " [ 4  5  6]\n",
      " [ 7  8  9]]\n",
      "[[ 1 10  2  3]\n",
      " [ 4 10  5  6]\n",
      " [ 7 10  8  9]]\n"
     ]
    }
   ],
   "source": [
    "print(a2)\n",
    "b2 = np.insert(a2, 1, 10, axis=0)\n",
    "print(b2)\n",
    "c2 = np.insert(a2, 1, 10, axis=1)\n",
    "print(c2)"
   ]
  },
  {
   "cell_type": "code",
   "execution_count": 148,
   "metadata": {},
   "outputs": [
    {
     "name": "stdout",
     "output_type": "stream",
     "text": [
      "[]\n",
      "[[0 0]\n",
      " [1 1]\n",
      " [2 2]]\n",
      "[[1 2 3]\n",
      " [4 5 6]\n",
      " [7 8 9]]\n",
      "[[100   2   3]\n",
      " [  4 100   6]\n",
      " [  7   8 100]]\n",
      "[[  4 100   6]\n",
      " [  7   8 100]]\n",
      "[[  4 100   6]\n",
      " [  7   8 100]]\n"
     ]
    }
   ],
   "source": [
    "a2 = np.array([[1, 2, 3],\n",
    "               [4, 5, 6],\n",
    "               [7, 8, 9]])\n",
    "arr = np.empty((0,2), int)\n",
    "print(arr)\n",
    "for i in range(3):\n",
    "    arr = np.append(arr, np.array([[i, i]]), axis=0)\n",
    "print(arr)\n",
    "print(a2)\n",
    "for i in range(3):\n",
    "    a2[i, i] = 100\n",
    "print(a2)\n",
    "print(a2[[1, 2]])\n",
    "print(a2[[1, 2], :])"
   ]
  },
  {
   "cell_type": "code",
   "execution_count": 150,
   "metadata": {},
   "outputs": [
    {
     "name": "stdout",
     "output_type": "stream",
     "text": [
      "[1 2 3 4 5]\n",
      "[1 3 4 5]\n",
      "[1 2 3 4 5]\n"
     ]
    }
   ],
   "source": [
    "print(a1)\n",
    "b1 = np.delete(a1, 1)\n",
    "print(b1)\n",
    "print(a1)"
   ]
  },
  {
   "cell_type": "code",
   "execution_count": 151,
   "metadata": {},
   "outputs": [
    {
     "name": "stdout",
     "output_type": "stream",
     "text": [
      "[[1 2 3]\n",
      " [4 5 6]\n",
      " [7 8 9]]\n",
      "[[1 2 3]\n",
      " [7 8 9]]\n",
      "[[1 3]\n",
      " [4 6]\n",
      " [7 9]]\n"
     ]
    }
   ],
   "source": [
    "a2 = np.array([[1, 2, 3],\n",
    "               [4, 5, 6],\n",
    "               [7, 8, 9]])\n",
    "print(a2)\n",
    "b2 = np.delete(a2, 1, axis=0)\n",
    "print(b2)\n",
    "c2 = np.delete(a2, 1, axis=1)\n",
    "print(c2)"
   ]
  },
  {
   "cell_type": "code",
   "execution_count": 156,
   "metadata": {},
   "outputs": [
    {
     "name": "stdout",
     "output_type": "stream",
     "text": [
      "[[50  2  3]\n",
      " [ 4  5  6]\n",
      " [ 7  8  9]]\n",
      "[[50  2]\n",
      " [ 4  5]]\n",
      "[[50  2]\n",
      " [ 4  5]]\n",
      "[[50  2]\n",
      " [ 4  5]]\n",
      "[[50  2  3]\n",
      " [ 4  5  6]\n",
      " [ 7  8  9]]\n"
     ]
    }
   ],
   "source": [
    "a2 = np.array([[1, 2, 3],\n",
    "               [4, 5, 6],\n",
    "               [7, 8, 9]])\n",
    "print(a2)\n",
    "print(a2[:2, :2])\n",
    "a2_sub = a2[:2, :2]\n",
    "print(a2_sub)\n",
    "a2_sub[:1, :1] = 50\n",
    "print(a2_sub)\n",
    "print(a2)"
   ]
  },
  {
   "cell_type": "code",
   "execution_count": 158,
   "metadata": {},
   "outputs": [
    {
     "name": "stdout",
     "output_type": "stream",
     "text": [
      "[[1 2 3]\n",
      " [4 5 6]\n",
      " [7 8 9]]\n",
      "[[1 2 3]\n",
      " [4 5 6]\n",
      " [7 8 9]]\n",
      "[[1 2 3]\n",
      " [4 5 6]\n",
      " [7 8 9]]\n",
      "[[50  2  3]\n",
      " [ 4  5  6]\n",
      " [ 7  8  9]]\n"
     ]
    }
   ],
   "source": [
    "a2 = np.array([[1, 2, 3],\n",
    "                [4, 5, 6],\n",
    "                [7, 8, 9]])\n",
    "print(a2)\n",
    "a2_sub = np.copy(a2)\n",
    "print(a2_sub)\n",
    "a2_sub[:1, :1] = 50\n",
    "print(a2)\n",
    "print(a2_sub)"
   ]
  },
  {
   "cell_type": "code",
   "execution_count": 14,
   "metadata": {},
   "outputs": [
    {
     "name": "stdout",
     "output_type": "stream",
     "text": [
      "[[1 2 3]\n",
      " [4 5 6]\n",
      " [7 8 9]]\n",
      "[[1 4 7]\n",
      " [2 5 8]\n",
      " [3 6 9]]\n",
      "[[1 4 7]\n",
      " [2 5 8]\n",
      " [3 6 9]]\n"
     ]
    }
   ],
   "source": [
    "a2 = np.array([[1, 2, 3],\n",
    "                [4, 5, 6],\n",
    "                [7, 8, 9]])\n",
    "print(a2)\n",
    "print(a2.T)\n",
    "print(a2.swapaxes(1,0))"
   ]
  },
  {
   "cell_type": "code",
   "execution_count": 15,
   "metadata": {},
   "outputs": [
    {
     "name": "stdout",
     "output_type": "stream",
     "text": [
      "[[[1 2 3]\n",
      "  [4 5 6]\n",
      "  [7 8 9]]\n",
      "\n",
      " [[1 2 3]\n",
      "  [4 5 6]\n",
      "  [7 8 9]]\n",
      "\n",
      " [[1 2 3]\n",
      "  [4 5 6]\n",
      "  [7 8 9]]]\n",
      "[[[1 1 1]\n",
      "  [4 4 4]\n",
      "  [7 7 7]]\n",
      "\n",
      " [[2 2 2]\n",
      "  [5 5 5]\n",
      "  [8 8 8]]\n",
      "\n",
      " [[3 3 3]\n",
      "  [6 6 6]\n",
      "  [9 9 9]]]\n",
      "[[[1 2 3]\n",
      "  [1 2 3]\n",
      "  [1 2 3]]\n",
      "\n",
      " [[4 5 6]\n",
      "  [4 5 6]\n",
      "  [4 5 6]]\n",
      "\n",
      " [[7 8 9]\n",
      "  [7 8 9]\n",
      "  [7 8 9]]]\n",
      "[[[1 4 7]\n",
      "  [2 5 8]\n",
      "  [3 6 9]]\n",
      "\n",
      " [[1 4 7]\n",
      "  [2 5 8]\n",
      "  [3 6 9]]\n",
      "\n",
      " [[1 4 7]\n",
      "  [2 5 8]\n",
      "  [3 6 9]]]\n"
     ]
    }
   ],
   "source": [
    "a3 = np.array([[[1, 2, 3],\n",
    "                [4, 5, 6],\n",
    "                [7, 8, 9]],\n",
    "                [[1, 2, 3],\n",
    "                [4, 5, 6],\n",
    "                [7, 8, 9]],\n",
    "                [[1, 2, 3],\n",
    "                [4, 5, 6],\n",
    "                [7, 8, 9]]])\n",
    "print(a3)\n",
    "print(a3.T)\n",
    "print(a3.swapaxes(0,1))\n",
    "print(a3.swapaxes(1,2))"
   ]
  },
  {
   "cell_type": "code",
   "execution_count": 16,
   "metadata": {},
   "outputs": [
    {
     "name": "stdout",
     "output_type": "stream",
     "text": [
      "[1 2 3 4 5 6 7 8 9]\n",
      "[[1 2 3]\n",
      " [4 5 6]\n",
      " [7 8 9]]\n"
     ]
    }
   ],
   "source": [
    "n1 = np.arange(1,10)\n",
    "print(n1)\n",
    "print(n1.reshape(3,3))"
   ]
  },
  {
   "cell_type": "code",
   "execution_count": 18,
   "metadata": {},
   "outputs": [
    {
     "name": "stdout",
     "output_type": "stream",
     "text": [
      "[1 2 3 4 5 6 7 8 9]\n",
      "[[1 2 3 4 5]]\n",
      "[[1]\n",
      " [2]\n",
      " [3]\n",
      " [4]\n",
      " [5]]\n"
     ]
    }
   ],
   "source": [
    "# np.newaxis() : 새로운 축 추가\n",
    "n1 = np.arange(1,10)\n",
    "print(n1)\n",
    "print(n1[np.newaxis, :5]) # 왼쪽에 생성하면 row로\n",
    "print(n1[:5, np.newaxis]) # 오른쪽에 생성하면 column으로 축을 생성"
   ]
  },
  {
   "cell_type": "code",
   "execution_count": 22,
   "metadata": {},
   "outputs": [
    {
     "name": "stdout",
     "output_type": "stream",
     "text": [
      "[[6 8 9 1 7]\n",
      " [0 4 7 4 6]]\n",
      "[[6 8]\n",
      " [9 1]\n",
      " [7 0]\n",
      " [4 7]\n",
      " [4 6]]\n",
      "[[6 8 9 1 7]\n",
      " [0 4 7 4 6]\n",
      " [0 0 0 0 0]\n",
      " [0 0 0 0 0]\n",
      " [0 0 0 0 0]]\n",
      "[[6 8 9]\n",
      " [1 7 0]\n",
      " [4 7 4]]\n"
     ]
    }
   ],
   "source": [
    "n2 = np.random.randint(0, 10, (2,5))\n",
    "print(n2)\n",
    "n2.resize((5,2))\n",
    "print(n2)\n",
    "n2.resize((5,5)) # resize시 크기를 늘리면 늘어난 부분에 0을 채움\n",
    "print(n2)\n",
    "n2.resize(3,3) # resize시 크기를 줄이면 넘어가는 부분은 삭제하고 남은 부분으로 배열을 생성함\n",
    "print(n2)"
   ]
  },
  {
   "cell_type": "code",
   "execution_count": 39,
   "metadata": {},
   "outputs": [
    {
     "name": "stdout",
     "output_type": "stream",
     "text": [
      "[[1 2 3]\n",
      " [4 5 6]\n",
      " [7 8 9]]\n",
      "[[11 12 13]\n",
      " [14 15 16]\n",
      " [17 18 19]]\n",
      "[[ 1  2  3 11 12 13]\n",
      " [ 4  5  6 14 15 16]\n",
      " [ 7  8  9 17 18 19]]\n"
     ]
    }
   ],
   "source": [
    "# append \n",
    "a2 = np.arange(1, 10).reshape(3,3)\n",
    "b2 = np.arange(11, 20).reshape(3,3)\n",
    "print(a2)\n",
    "print(b2)\n",
    "# a2 = np.append(a2, np.array([[10,10,10]]), axis=0)\n",
    "# print(a2)\n",
    "# a2 = np.append(a2, np.array([[10,10,10]]) axis=0)\n",
    "# print(a2)\n",
    "a2 = np.append(a2, b2, axis=1)\n",
    "print(a2)"
   ]
  },
  {
   "cell_type": "code",
   "execution_count": 41,
   "metadata": {},
   "outputs": [
    {
     "data": {
      "text/plain": [
       "array([1, 3, 5, 2, 4, 6])"
      ]
     },
     "execution_count": 41,
     "metadata": {},
     "output_type": "execute_result"
    }
   ],
   "source": [
    "# concatenate : tuple이나 배열의 리스트를 인수로 사용해 배열 연결\n",
    "a1 = np.array([1,3,5])\n",
    "b1 = np.array([2,4,6])\n",
    "np.concatenate([a1, b1])"
   ]
  },
  {
   "cell_type": "code",
   "execution_count": 42,
   "metadata": {},
   "outputs": [
    {
     "data": {
      "text/plain": [
       "array([1, 3, 5, 2, 4, 6, 7, 8, 9])"
      ]
     },
     "execution_count": 42,
     "metadata": {},
     "output_type": "execute_result"
    }
   ],
   "source": [
    "c1 = np.array([7,8,9])\n",
    "np.concatenate([a1,b1,c1])"
   ]
  },
  {
   "cell_type": "code",
   "execution_count": 43,
   "metadata": {},
   "outputs": [
    {
     "data": {
      "text/plain": [
       "array([[1, 2, 3],\n",
       "       [4, 5, 6],\n",
       "       [1, 2, 3],\n",
       "       [4, 5, 6]])"
      ]
     },
     "execution_count": 43,
     "metadata": {},
     "output_type": "execute_result"
    }
   ],
   "source": [
    "a2 = np.array([[1,2,3],\n",
    "                [4,5,6]])\n",
    "np.concatenate([a2,a2])"
   ]
  },
  {
   "cell_type": "code",
   "execution_count": 44,
   "metadata": {},
   "outputs": [
    {
     "data": {
      "text/plain": [
       "array([[1, 2, 3, 1, 2, 3],\n",
       "       [4, 5, 6, 4, 5, 6]])"
      ]
     },
     "execution_count": 44,
     "metadata": {},
     "output_type": "execute_result"
    }
   ],
   "source": [
    "a2 = np.array([[1,2,3],\n",
    "                [4,5,6]])\n",
    "np.concatenate([a2,a2], axis = 1)"
   ]
  },
  {
   "cell_type": "code",
   "execution_count": 45,
   "metadata": {},
   "outputs": [
    {
     "data": {
      "text/plain": [
       "array([[1, 2, 3],\n",
       "       [4, 5, 6],\n",
       "       [1, 2, 3],\n",
       "       [4, 5, 6]])"
      ]
     },
     "execution_count": 45,
     "metadata": {},
     "output_type": "execute_result"
    }
   ],
   "source": [
    "np.vstack([a2, a2])"
   ]
  },
  {
   "cell_type": "code",
   "execution_count": 46,
   "metadata": {},
   "outputs": [
    {
     "data": {
      "text/plain": [
       "array([[1, 2, 3, 1, 2, 3],\n",
       "       [4, 5, 6, 4, 5, 6]])"
      ]
     },
     "execution_count": 46,
     "metadata": {},
     "output_type": "execute_result"
    }
   ],
   "source": [
    "np.hstack([a2,a2])"
   ]
  },
  {
   "cell_type": "code",
   "execution_count": 47,
   "metadata": {},
   "outputs": [
    {
     "data": {
      "text/plain": [
       "array([[[1, 1],\n",
       "        [2, 2],\n",
       "        [3, 3]],\n",
       "\n",
       "       [[4, 4],\n",
       "        [5, 5],\n",
       "        [6, 6]]])"
      ]
     },
     "execution_count": 47,
     "metadata": {},
     "output_type": "execute_result"
    }
   ],
   "source": [
    "np.dstack([a2,a2]) # 깊이 스택, 3차원으로 연결"
   ]
  },
  {
   "cell_type": "code",
   "execution_count": 48,
   "metadata": {},
   "outputs": [
    {
     "data": {
      "text/plain": [
       "array([[[1, 2, 3],\n",
       "        [4, 5, 6]],\n",
       "\n",
       "       [[1, 2, 3],\n",
       "        [4, 5, 6]]])"
      ]
     },
     "execution_count": 48,
     "metadata": {},
     "output_type": "execute_result"
    }
   ],
   "source": [
    "np.stack([a2,a2]) # 새로운 차원으로 연결"
   ]
  },
  {
   "cell_type": "code",
   "execution_count": 49,
   "metadata": {},
   "outputs": [
    {
     "name": "stdout",
     "output_type": "stream",
     "text": [
      "[0 1 2 3 4 5 6 7 8 9] [10 11 12 13 14 15 16 17 18]\n"
     ]
    }
   ],
   "source": [
    "a1 = np.arange(0,19)\n",
    "b1, c1 = np.split(a1, [10])\n",
    "print(b1, c1)"
   ]
  },
  {
   "cell_type": "code",
   "execution_count": 51,
   "metadata": {},
   "outputs": [
    {
     "name": "stdout",
     "output_type": "stream",
     "text": [
      "[[1 2 3]\n",
      " [4 5 6]\n",
      " [7 8 9]]\n",
      "[[1 2 3]\n",
      " [4 5 6]] [[7 8 9]]\n"
     ]
    }
   ],
   "source": [
    "a2 = np.arange(1, 10).reshape(3,3)\n",
    "print(a2)\n",
    "b2, c2 = np.vsplit(a2, [2])\n",
    "print(b2, c2)"
   ]
  },
  {
   "cell_type": "code",
   "execution_count": 52,
   "metadata": {},
   "outputs": [
    {
     "name": "stdout",
     "output_type": "stream",
     "text": [
      "[[1 2 3]\n",
      " [4 5 6]\n",
      " [7 8 9]]\n",
      "[[1 2]\n",
      " [4 5]\n",
      " [7 8]] [[3]\n",
      " [6]\n",
      " [9]]\n"
     ]
    }
   ],
   "source": [
    "a2 = np.arange(1, 10).reshape(3,3)\n",
    "print(a2)\n",
    "b2, c2 = np.hsplit(a2, [2])\n",
    "print(b2, c2)"
   ]
  },
  {
   "cell_type": "code",
   "execution_count": 55,
   "metadata": {},
   "outputs": [
    {
     "name": "stdout",
     "output_type": "stream",
     "text": [
      "[[[ 1  2  3]\n",
      "  [ 4  5  6]\n",
      "  [ 7  8  9]]\n",
      "\n",
      " [[10 11 12]\n",
      "  [13 14 15]\n",
      "  [16 17 18]]\n",
      "\n",
      " [[19 20 21]\n",
      "  [22 23 24]\n",
      "  [25 26 27]]]\n",
      "[[[ 1  2]\n",
      "  [ 4  5]\n",
      "  [ 7  8]]\n",
      "\n",
      " [[10 11]\n",
      "  [13 14]\n",
      "  [16 17]]\n",
      "\n",
      " [[19 20]\n",
      "  [22 23]\n",
      "  [25 26]]] [[[ 3]\n",
      "  [ 6]\n",
      "  [ 9]]\n",
      "\n",
      " [[12]\n",
      "  [15]\n",
      "  [18]]\n",
      "\n",
      " [[21]\n",
      "  [24]\n",
      "  [27]]]\n"
     ]
    }
   ],
   "source": [
    "# dsplit : 깊이 분할, 3차원으로 분할\n",
    "a2 = np.arange(1, 28).reshape(3,3,3)\n",
    "print(a2)\n",
    "b2, c2 = np.dsplit(a2, [2])\n",
    "print(b2, c2)"
   ]
  },
  {
   "cell_type": "code",
   "execution_count": 57,
   "metadata": {},
   "outputs": [
    {
     "name": "stdout",
     "output_type": "stream",
     "text": [
      "[1 2 3]\n",
      "[6 7 8]\n",
      "[[1 2 3]\n",
      " [4 5 6]\n",
      " [7 8 9]]\n",
      "[[ 2  4  6]\n",
      " [ 5  7  9]\n",
      " [ 8 10 12]]\n"
     ]
    }
   ],
   "source": [
    "a1 = np.array([1,2,3])\n",
    "print(a1)\n",
    "print(a1 + 5)\n",
    "\n",
    "a2 = np.arange(1,10).reshape(3,3)\n",
    "print(a2)\n",
    "print(a2 + a1)"
   ]
  },
  {
   "cell_type": "code",
   "execution_count": 62,
   "metadata": {},
   "outputs": [
    {
     "name": "stdout",
     "output_type": "stream",
     "text": [
      "7.38905609893065\n",
      "32.0\n"
     ]
    }
   ],
   "source": [
    "print(np.exp(np.array(2))) # e ^ 2\n",
    "print(np.exp2(np.array(5))) # 2 ^ 5"
   ]
  },
  {
   "cell_type": "code",
   "execution_count": 8,
   "metadata": {},
   "outputs": [
    {
     "name": "stdout",
     "output_type": "stream",
     "text": [
      "[[1 2 3]\n",
      " [4 5 6]]\n",
      "720\n",
      "[ 4 10 18]\n",
      "[  6 120]\n"
     ]
    }
   ],
   "source": [
    "# prod() : 곱 계산\n",
    "a2 = np.array([[1,2,3],\n",
    "                [4,5,6]])\n",
    "print(a2)\n",
    "print(np.prod(a2)) # matrix의 모든 인자의 곱\n",
    "print(np.prod(a2, axis = 0)) # 각 columns의 곱\n",
    "print(np.prod(a2, axis = 1)) # 각 row의 곱"
   ]
  },
  {
   "cell_type": "code",
   "execution_count": 7,
   "metadata": {},
   "outputs": [
    {
     "name": "stdout",
     "output_type": "stream",
     "text": [
      "[[1 2 3]\n",
      " [4 5 6]]\n",
      "[  1   2   6  24 120 720]\n",
      "[[ 1  2  3]\n",
      " [ 4 10 18]]\n",
      "[[  1   2   6]\n",
      " [  4  20 120]]\n"
     ]
    }
   ],
   "source": [
    "# cumpord() : 누적곱 계산\n",
    "a2 = np.array([[1,2,3],\n",
    "                [4,5,6]])\n",
    "print(a2)\n",
    "print(np.cumprod(a2))\n",
    "print(np.cumprod(a2, axis = 0))\n",
    "print(np.cumprod(a2, axis = 1))"
   ]
  },
  {
   "cell_type": "code",
   "execution_count": 16,
   "metadata": {},
   "outputs": [
    {
     "name": "stdout",
     "output_type": "stream",
     "text": [
      "[[1 2 3]\n",
      " [4 5 6]]\n",
      "[[1 1]\n",
      " [1 1]\n",
      " [1 1]]\n",
      "[[ 6  6]\n",
      " [15 15]]\n",
      "[[ 6  6]\n",
      " [15 15]]\n"
     ]
    }
   ],
   "source": [
    "# dot()/matmul() : 접곱/행렬곱 계산\n",
    "a2 = np.array([[1,2,3],\n",
    "                [4,5,6]])\n",
    "b2 = np.ones_like(a2).reshape(3,2)\n",
    "print(a2)\n",
    "print(b2)\n",
    "print(np.dot(a2, b2))\n",
    "print(np.matmul(a2, b2))"
   ]
  },
  {
   "cell_type": "code",
   "execution_count": 20,
   "metadata": {},
   "outputs": [
    {
     "name": "stdout",
     "output_type": "stream",
     "text": [
      "[[1 2 3]\n",
      " [4 5 6]\n",
      " [7 8 9]]\n",
      "[[1 1 1]\n",
      " [1 1 1]\n",
      " [1 1 1]]\n",
      "45\n",
      "[[[[1 1 1]\n",
      "   [1 1 1]\n",
      "   [1 1 1]]\n",
      "\n",
      "  [[2 2 2]\n",
      "   [2 2 2]\n",
      "   [2 2 2]]\n",
      "\n",
      "  [[3 3 3]\n",
      "   [3 3 3]\n",
      "   [3 3 3]]]\n",
      "\n",
      "\n",
      " [[[4 4 4]\n",
      "   [4 4 4]\n",
      "   [4 4 4]]\n",
      "\n",
      "  [[5 5 5]\n",
      "   [5 5 5]\n",
      "   [5 5 5]]\n",
      "\n",
      "  [[6 6 6]\n",
      "   [6 6 6]\n",
      "   [6 6 6]]]\n",
      "\n",
      "\n",
      " [[[7 7 7]\n",
      "   [7 7 7]\n",
      "   [7 7 7]]\n",
      "\n",
      "  [[8 8 8]\n",
      "   [8 8 8]\n",
      "   [8 8 8]]\n",
      "\n",
      "  [[9 9 9]\n",
      "   [9 9 9]\n",
      "   [9 9 9]]]]\n",
      "[[ 6  6  6]\n",
      " [15 15 15]\n",
      " [24 24 24]]\n"
     ]
    }
   ],
   "source": [
    "# tensordot() : 텐서곱 연산\n",
    "a2 = np.arange(1,10).reshape(3,3)\n",
    "print(a2)\n",
    "b2 = np.ones_like(a2)\n",
    "print(b2)\n",
    "print(np.tensordot(a2, b2))\n",
    "print(np.tensordot(a2, b2, axes=0))\n",
    "print(np.tensordot(a2, b2, axes=1))"
   ]
  },
  {
   "cell_type": "code",
   "execution_count": 17,
   "metadata": {},
   "outputs": [
    {
     "name": "stdout",
     "output_type": "stream",
     "text": [
      "[-3  6 -3]\n"
     ]
    }
   ],
   "source": [
    "# np.cross() : 벡터 곱\n",
    "x = [1, 2, 3]\n",
    "y = [4, 5, 6]\n",
    "print(np.cross(x, y))"
   ]
  },
  {
   "cell_type": "code",
   "execution_count": 22,
   "metadata": {},
   "outputs": [
    {
     "name": "stdout",
     "output_type": "stream",
     "text": [
      "[[1 2 3]\n",
      " [4 5 6]\n",
      " [7 8 9]]\n",
      "[[1 1 1]\n",
      " [1 1 1]\n",
      " [1 1 1]]\n",
      "[[ 6  6  6]\n",
      " [15 15 15]\n",
      " [24 24 24]]\n",
      "[[1 1 1 1 1 1 1 1 1]\n",
      " [2 2 2 2 2 2 2 2 2]\n",
      " [3 3 3 3 3 3 3 3 3]\n",
      " [4 4 4 4 4 4 4 4 4]\n",
      " [5 5 5 5 5 5 5 5 5]\n",
      " [6 6 6 6 6 6 6 6 6]\n",
      " [7 7 7 7 7 7 7 7 7]\n",
      " [8 8 8 8 8 8 8 8 8]\n",
      " [9 9 9 9 9 9 9 9 9]]\n"
     ]
    }
   ],
   "source": [
    "# inner() / outer() : 내적 / 외적\n",
    "print(a2)\n",
    "print(b2)\n",
    "print(np.inner(a2, b2))\n",
    "print(np.outer(a2, b2))"
   ]
  },
  {
   "cell_type": "code",
   "execution_count": 24,
   "metadata": {},
   "outputs": [
    {
     "name": "stdout",
     "output_type": "stream",
     "text": [
      "32\n",
      "[[ 4  5  6]\n",
      " [ 8 10 12]\n",
      " [12 15 18]]\n"
     ]
    }
   ],
   "source": [
    "a3, b3 = [1,2,3], [4,5,6]\n",
    "print(np.inner(a3, b3))\n",
    "print(np.outer(a3, b3))"
   ]
  },
  {
   "attachments": {},
   "cell_type": "markdown",
   "metadata": {},
   "source": [
    "##### np.mean : 평균\n",
    "##### np.max : 최대값\n",
    "##### np.argmax : 최대값의 index\n",
    "##### np.min : 최소값\n",
    "##### np.argmin : 최소값의 index\n",
    "##### np.median : 중앙값"
   ]
  },
  {
   "cell_type": "code",
   "execution_count": 25,
   "metadata": {},
   "outputs": [
    {
     "name": "stdout",
     "output_type": "stream",
     "text": [
      "[0 1 2 3]\n",
      "[0.   0.75 1.5  2.25 3.  ]\n",
      "[0 1 2 3 3]\n",
      "[0 0 1 2 3]\n",
      "[0 1 2 2 3]\n",
      "[0.  0.5 1.5 2.5 3. ]\n"
     ]
    }
   ],
   "source": [
    "# percentile() : 백분위 수\n",
    "a1 = np.array([0, 1, 2, 3])\n",
    "print(a1)\n",
    "print(np.percentile(a1, [0, 25, 50, 75, 100], interpolation='linear'))\n",
    "print(np.percentile(a1, [0, 25, 50, 75, 100], interpolation='higher'))\n",
    "print(np.percentile(a1, [0, 25, 50, 75, 100], interpolation='lower'))\n",
    "print(np.percentile(a1, [0, 25, 50, 75, 100], interpolation='nearest'))\n",
    "print(np.percentile(a1, [0, 25, 50, 75, 100], interpolation='midpoint'))"
   ]
  },
  {
   "cell_type": "code",
   "execution_count": 27,
   "metadata": {},
   "outputs": [
    {
     "name": "stdout",
     "output_type": "stream",
     "text": [
      "[[False False False]\n",
      " [ True  True  True]\n",
      " [False False False]]\n",
      "True\n",
      "[ True  True  True]\n",
      "[False  True False]\n"
     ]
    }
   ],
   "source": [
    "# any()\n",
    "a2 = np.array([[False]*3,\n",
    "                [True]*3,\n",
    "                [False]*3])\n",
    "print(a2)\n",
    "print(np.any(a2))\n",
    "print(np.any(a2, axis=0))\n",
    "print(np.any(a2, axis=1))"
   ]
  },
  {
   "cell_type": "code",
   "execution_count": 28,
   "metadata": {},
   "outputs": [
    {
     "name": "stdout",
     "output_type": "stream",
     "text": [
      "[[False False False]\n",
      " [ True  True  True]\n",
      " [False False False]]\n",
      "False\n",
      "[False False False]\n",
      "[False  True False]\n"
     ]
    }
   ],
   "source": [
    "# all()\n",
    "a2 = np.array([[False]*3,\n",
    "                [True]*3,\n",
    "                [False]*3])\n",
    "print(a2)\n",
    "print(np.all(a2))\n",
    "print(np.all(a2, axis=0))\n",
    "print(np.all(a2, axis=1))"
   ]
  },
  {
   "cell_type": "code",
   "execution_count": 38,
   "metadata": {},
   "outputs": [
    {
     "name": "stdout",
     "output_type": "stream",
     "text": [
      "[1 2 3 4 5 6 7 8 9]\n",
      "[False False False False  True False False False False]\n",
      "[False False False False False  True  True  True  True]\n",
      "-------------------------------------------------------\n",
      "[[1 2 3]\n",
      " [4 5 6]\n",
      " [7 8 9]]\n",
      "45\n",
      "4\n",
      "[1 1 2]\n",
      "[0 1 3]\n"
     ]
    }
   ],
   "source": [
    "# 비교연산은 boolean값으로 나온다\n",
    "a1 = np.arange(1, 10)\n",
    "print(a1)\n",
    "print(a1 == 5)\n",
    "print(a1 > 5)\n",
    "\n",
    "print('-------------------------------------------------------')\n",
    "\n",
    "a2 = np.arange(1, 10).reshape(3,3)\n",
    "print(a2)\n",
    "print(np.sum(a2))\n",
    "print(np.count_nonzero(a2 > 5))\n",
    "print(np.count_nonzero(a2 > 5, axis=0))\n",
    "print(np.count_nonzero(a2 > 5, axis=1))"
   ]
  },
  {
   "cell_type": "code",
   "execution_count": 43,
   "metadata": {},
   "outputs": [
    {
     "name": "stdout",
     "output_type": "stream",
     "text": [
      "[ True False  True  True  True]\n",
      "-------------------------------------------------------\n",
      "[ nan   1. -inf   5.  inf]\n",
      "[ True False False False False]\n",
      "[False False  True False  True]\n",
      "[False  True False  True False]\n"
     ]
    }
   ],
   "source": [
    "# np.close() : 배열 두개가 (z*le+02)% 내외로 가까우면 True, 아니면 False\n",
    "# np.isinf() : 배열이 inf이면 True, 아니면 False\n",
    "# np.isfinite() : 배열이 inf, nan이면 False, 아니면 True\n",
    "# np.isnan() : 배열이 nan이면 True, 아니면 False\n",
    "a1 = np.array([1,2,3,4,5])\n",
    "b1 = np.array([1,3,3,4,5])\n",
    "print(np.isclose(a1, b1))\n",
    "\n",
    "print('-------------------------------------------------------')\n",
    "\n",
    "a1 = np.array([np.nan, 1, np.NINF, 5, np.inf])\n",
    "print(a1)\n",
    "print(np.isnan(a1))\n",
    "print(np.isinf(a1))\n",
    "print(np.isfinite(a1))"
   ]
  },
  {
   "cell_type": "code",
   "execution_count": 49,
   "metadata": {},
   "outputs": [
    {
     "name": "stdout",
     "output_type": "stream",
     "text": [
      "[[1 2 3]\n",
      " [4 5 6]\n",
      " [7 8 9]]\n",
      "[[False False False]\n",
      " [False False  True]\n",
      " [ True False False]]\n",
      "[6 7]\n",
      "[[ True  True  True]\n",
      " [ True False False]\n",
      " [False False  True]]\n",
      "[1 2 3 4 9]\n",
      "[[ True  True  True]\n",
      " [ True  True False]\n",
      " [False  True  True]]\n",
      "[1 2 3 4 5 8 9]\n",
      "[[ True  True  True]\n",
      " [ True  True False]\n",
      " [False False False]]\n",
      "[1 2 3 4 5]\n"
     ]
    }
   ],
   "source": [
    "a1 = np.arange(1, 10).reshape(3,3)\n",
    "print(a1)\n",
    "print((a1>5) & (a1 < 8))\n",
    "print(a1[(a1>5) & (a1 < 8)])\n",
    "\n",
    "print((a1<5) | (a1 > 8))\n",
    "print(a1[(a1<5) | (a1 > 8)])\n",
    "\n",
    "print((a1>5) ^ (a1 < 8))\n",
    "print(a1[(a1>5) ^ (a1 < 8)])\n",
    "\n",
    "print(~(a1>5))\n",
    "print(a1[~(a1>5)])"
   ]
  },
  {
   "cell_type": "code",
   "execution_count": 51,
   "metadata": {},
   "outputs": [
    {
     "name": "stdout",
     "output_type": "stream",
     "text": [
      "[3 7 7 9 5 3 9 1 6 6]\n",
      "[1 3 3 5 6 6 7 7 9 9]\n",
      "[3 7 7 9 5 3 9 1 6 6]\n",
      "[7 0 5 4 8 9 1 2 3 6]\n",
      "[3 7 7 9 5 3 9 1 6 6]\n",
      "[1 3 3 5 6 6 7 7 9 9]\n"
     ]
    }
   ],
   "source": [
    "a1 = np.random.randint(1, 10, size = 10)\n",
    "print(a1)\n",
    "print(np.sort(a1))\n",
    "print(a1)\n",
    "print(np.argsort(a1)) # sort되었을때의 index값 return\n",
    "print(a1)\n",
    "a1.sort()\n",
    "print(a1)"
   ]
  },
  {
   "cell_type": "code",
   "execution_count": 52,
   "metadata": {},
   "outputs": [
    {
     "name": "stdout",
     "output_type": "stream",
     "text": [
      "[[2 6 6]\n",
      " [6 8 5]\n",
      " [3 4 2]]\n",
      "[[2 4 2]\n",
      " [3 6 5]\n",
      " [6 8 6]]\n",
      "[[2 6 6]\n",
      " [5 6 8]\n",
      " [2 3 4]]\n"
     ]
    }
   ],
   "source": [
    "a1 = np.random.randint(1, 10, size = (3,3))\n",
    "print(a1)\n",
    "print(np.sort(a1, axis=0))\n",
    "print(np.sort(a1, axis=1))"
   ]
  },
  {
   "cell_type": "code",
   "execution_count": 55,
   "metadata": {},
   "outputs": [
    {
     "name": "stdout",
     "output_type": "stream",
     "text": [
      "[9 2 3 7 2 8 4 1 7 5]\n",
      "[1 2 2 3 4 5 8 7 7 9]\n",
      "-------------------------------------------------------\n",
      "[[19  7 13 25]\n",
      " [18  4 17 16]\n",
      " [12 10 11  6]\n",
      " [20 22 28 11]]\n",
      "[[13  7 19 25]\n",
      " [ 4 16 17 18]\n",
      " [ 6 10 11 12]\n",
      " [11 20 22 28]]\n",
      "[[12  4 11  6]\n",
      " [18  7 13 11]\n",
      " [19 10 17 16]\n",
      " [20 22 28 25]]\n",
      "[[13  7 19 25]\n",
      " [ 4 16 17 18]\n",
      " [ 6 10 11 12]\n",
      " [11 20 22 28]]\n"
     ]
    }
   ],
   "source": [
    "# partition() : 배열에서 k개의 작은 값을 반환\n",
    "a1 = np.random.randint(1, 10, size = 10)\n",
    "print(a1)\n",
    "print(np.partition(a1, 3))\n",
    "\n",
    "print('-------------------------------------------------------')\n",
    "\n",
    "a2 = np.random.randint(1, 30, size = (4,4))\n",
    "print(a2)\n",
    "print(np.partition(a2, 3))\n",
    "print(np.partition(a2, 3, axis=0))\n",
    "print(np.partition(a2, 3, axis=1))"
   ]
  },
  {
   "attachments": {},
   "cell_type": "markdown",
   "metadata": {},
   "source": [
    "##### np.save() : numpy 배열 객체 1개를 파일에 저장 / 파일 종류 : 바이너리\n",
    "##### np.savez() : numpy 배열 객체 여러개를 파일에 저장 / 파일 종류 : 바이너리\n",
    "##### np.load() : numpy 배열 저장 파일로부터 객체 로딩 / 파일 종류 : 바이너리\n",
    "##### np.loadtxt() : 텍스트 파일로부터 배열 로딩 / 파일 종류 : 텍스트\n",
    "##### np.savetxt() : 텍스트 파일에 numpy 배열 객체 저장 / 파일 종류 : 텍스트"
   ]
  },
  {
   "cell_type": "code",
   "execution_count": 56,
   "metadata": {},
   "outputs": [
    {
     "name": "stdout",
     "output_type": "stream",
     "text": [
      "[[ 5  9  5  5]\n",
      " [14  8  8  2]\n",
      " [12  8 12 15]\n",
      " [10 12  9 14]]\n"
     ]
    }
   ],
   "source": [
    "a = np.random.randint(1, 20, size = (4,4))\n",
    "print(a)\n",
    "np.save('a', a)"
   ]
  },
  {
   "cell_type": "code",
   "execution_count": 66,
   "metadata": {},
   "outputs": [
    {
     "name": "stdout",
     "output_type": "stream",
     "text": [
      "[[ 5  9  5  5]\n",
      " [14  8  8  2]\n",
      " [12  8 12 15]\n",
      " [10 12  9 14]]\n"
     ]
    }
   ],
   "source": [
    "npy = np.load('a.npy')\n",
    "print(npy)"
   ]
  },
  {
   "cell_type": "code",
   "execution_count": 65,
   "metadata": {},
   "outputs": [
    {
     "name": "stdout",
     "output_type": "stream",
     "text": [
      "[[11  4 13 19]\n",
      " [ 8 15  5 11]\n",
      " [11 15 15 16]\n",
      " [15 11 10  3]]\n"
     ]
    }
   ],
   "source": [
    "b = np.random.randint(1, 20, size = (4,4))\n",
    "print(b)\n",
    "np.savez('ab', a, b)"
   ]
  },
  {
   "cell_type": "code",
   "execution_count": 68,
   "metadata": {},
   "outputs": [
    {
     "name": "stdout",
     "output_type": "stream",
     "text": [
      "['arr_0', 'arr_1']\n",
      "[[ 5  9  5  5]\n",
      " [14  8  8  2]\n",
      " [12  8 12 15]\n",
      " [10 12  9 14]]\n",
      "[[11  4 13 19]\n",
      " [ 8 15  5 11]\n",
      " [11 15 15 16]\n",
      " [15 11 10  3]]\n"
     ]
    }
   ],
   "source": [
    "npz = np.load('ab.npz')\n",
    "print(npz.files)\n",
    "print(npz['arr_0'])\n",
    "print(npz['arr_1'])"
   ]
  },
  {
   "cell_type": "code",
   "execution_count": 70,
   "metadata": {},
   "outputs": [
    {
     "name": "stdout",
     "output_type": "stream",
     "text": [
      "[[ 5  9  5  5]\n",
      " [14  8  8  2]\n",
      " [12  8 12 15]\n",
      " [10 12  9 14]]\n"
     ]
    }
   ],
   "source": [
    "print(a)\n",
    "np.savetxt('a.csv', a, delimiter=',')"
   ]
  },
  {
   "cell_type": "code",
   "execution_count": 75,
   "metadata": {},
   "outputs": [
    {
     "name": "stdout",
     "output_type": "stream",
     "text": [
      "[[ 5.  9.  5.  5.]\n",
      " [14.  8.  8.  2.]\n",
      " [12.  8. 12. 15.]\n",
      " [10. 12.  9. 14.]]\n"
     ]
    }
   ],
   "source": [
    "cs = np.loadtxt('a.csv', delimiter=',')\n",
    "print(cs)"
   ]
  }
 ],
 "metadata": {
  "kernelspec": {
   "display_name": "cal2023",
   "language": "python",
   "name": "python3"
  },
  "language_info": {
   "codemirror_mode": {
    "name": "ipython",
    "version": 3
   },
   "file_extension": ".py",
   "mimetype": "text/x-python",
   "name": "python",
   "nbconvert_exporter": "python",
   "pygments_lexer": "ipython3",
   "version": "3.7.15"
  },
  "orig_nbformat": 4
 },
 "nbformat": 4,
 "nbformat_minor": 2
}
